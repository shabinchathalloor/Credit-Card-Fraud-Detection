{
 "cells": [
  {
   "cell_type": "markdown",
   "metadata": {},
   "source": [
    "# Credit Card Fraud Detection using CNN"
   ]
  },
  {
   "cell_type": "code",
   "execution_count": 1,
   "metadata": {},
   "outputs": [
    {
     "name": "stdout",
     "output_type": "stream",
     "text": [
      "2.0.0\n"
     ]
    }
   ],
   "source": [
    "import tensorflow as tf\n",
    "from tensorflow import keras\n",
    "from tensorflow.keras import Sequential\n",
    "from tensorflow.keras.layers import Flatten, Dense, Dropout, BatchNormalization\n",
    "from tensorflow.keras.layers import Conv1D, MaxPool1D\n",
    "from tensorflow.keras.optimizers import Adam\n",
    "print(tf.__version__)"
   ]
  },
  {
   "cell_type": "code",
   "execution_count": 2,
   "metadata": {},
   "outputs": [],
   "source": [
    "import pandas as pd\n",
    "import numpy as np\n",
    "import  seaborn as sns\n",
    "import matplotlib.pyplot as plt\n",
    "from sklearn.model_selection import train_test_split\n",
    "from sklearn.preprocessing import StandardScaler"
   ]
  },
  {
   "cell_type": "markdown",
   "metadata": {},
   "source": [
    "## Loading the data"
   ]
  },
  {
   "cell_type": "markdown",
   "metadata": {},
   "source": [
    "You can download dataset from Kaggle - [creditcard.csv]( https://www.kaggle.com/mlg-ulb/creditcardfraud)"
   ]
  },
  {
   "cell_type": "code",
   "execution_count": 3,
   "metadata": {},
   "outputs": [
    {
     "data": {
      "text/html": [
       "<div>\n",
       "<style scoped>\n",
       "    .dataframe tbody tr th:only-of-type {\n",
       "        vertical-align: middle;\n",
       "    }\n",
       "\n",
       "    .dataframe tbody tr th {\n",
       "        vertical-align: top;\n",
       "    }\n",
       "\n",
       "    .dataframe thead th {\n",
       "        text-align: right;\n",
       "    }\n",
       "</style>\n",
       "<table border=\"1\" class=\"dataframe\">\n",
       "  <thead>\n",
       "    <tr style=\"text-align: right;\">\n",
       "      <th></th>\n",
       "      <th>Time</th>\n",
       "      <th>V1</th>\n",
       "      <th>V2</th>\n",
       "      <th>V3</th>\n",
       "      <th>V4</th>\n",
       "      <th>V5</th>\n",
       "      <th>V6</th>\n",
       "      <th>V7</th>\n",
       "      <th>V8</th>\n",
       "      <th>V9</th>\n",
       "      <th>...</th>\n",
       "      <th>V21</th>\n",
       "      <th>V22</th>\n",
       "      <th>V23</th>\n",
       "      <th>V24</th>\n",
       "      <th>V25</th>\n",
       "      <th>V26</th>\n",
       "      <th>V27</th>\n",
       "      <th>V28</th>\n",
       "      <th>Amount</th>\n",
       "      <th>Class</th>\n",
       "    </tr>\n",
       "  </thead>\n",
       "  <tbody>\n",
       "    <tr>\n",
       "      <th>0</th>\n",
       "      <td>0.0</td>\n",
       "      <td>-1.359807</td>\n",
       "      <td>-0.072781</td>\n",
       "      <td>2.536347</td>\n",
       "      <td>1.378155</td>\n",
       "      <td>-0.338321</td>\n",
       "      <td>0.462388</td>\n",
       "      <td>0.239599</td>\n",
       "      <td>0.098698</td>\n",
       "      <td>0.363787</td>\n",
       "      <td>...</td>\n",
       "      <td>-0.018307</td>\n",
       "      <td>0.277838</td>\n",
       "      <td>-0.110474</td>\n",
       "      <td>0.066928</td>\n",
       "      <td>0.128539</td>\n",
       "      <td>-0.189115</td>\n",
       "      <td>0.133558</td>\n",
       "      <td>-0.021053</td>\n",
       "      <td>149.62</td>\n",
       "      <td>0</td>\n",
       "    </tr>\n",
       "    <tr>\n",
       "      <th>1</th>\n",
       "      <td>0.0</td>\n",
       "      <td>1.191857</td>\n",
       "      <td>0.266151</td>\n",
       "      <td>0.166480</td>\n",
       "      <td>0.448154</td>\n",
       "      <td>0.060018</td>\n",
       "      <td>-0.082361</td>\n",
       "      <td>-0.078803</td>\n",
       "      <td>0.085102</td>\n",
       "      <td>-0.255425</td>\n",
       "      <td>...</td>\n",
       "      <td>-0.225775</td>\n",
       "      <td>-0.638672</td>\n",
       "      <td>0.101288</td>\n",
       "      <td>-0.339846</td>\n",
       "      <td>0.167170</td>\n",
       "      <td>0.125895</td>\n",
       "      <td>-0.008983</td>\n",
       "      <td>0.014724</td>\n",
       "      <td>2.69</td>\n",
       "      <td>0</td>\n",
       "    </tr>\n",
       "    <tr>\n",
       "      <th>2</th>\n",
       "      <td>1.0</td>\n",
       "      <td>-1.358354</td>\n",
       "      <td>-1.340163</td>\n",
       "      <td>1.773209</td>\n",
       "      <td>0.379780</td>\n",
       "      <td>-0.503198</td>\n",
       "      <td>1.800499</td>\n",
       "      <td>0.791461</td>\n",
       "      <td>0.247676</td>\n",
       "      <td>-1.514654</td>\n",
       "      <td>...</td>\n",
       "      <td>0.247998</td>\n",
       "      <td>0.771679</td>\n",
       "      <td>0.909412</td>\n",
       "      <td>-0.689281</td>\n",
       "      <td>-0.327642</td>\n",
       "      <td>-0.139097</td>\n",
       "      <td>-0.055353</td>\n",
       "      <td>-0.059752</td>\n",
       "      <td>378.66</td>\n",
       "      <td>0</td>\n",
       "    </tr>\n",
       "    <tr>\n",
       "      <th>3</th>\n",
       "      <td>1.0</td>\n",
       "      <td>-0.966272</td>\n",
       "      <td>-0.185226</td>\n",
       "      <td>1.792993</td>\n",
       "      <td>-0.863291</td>\n",
       "      <td>-0.010309</td>\n",
       "      <td>1.247203</td>\n",
       "      <td>0.237609</td>\n",
       "      <td>0.377436</td>\n",
       "      <td>-1.387024</td>\n",
       "      <td>...</td>\n",
       "      <td>-0.108300</td>\n",
       "      <td>0.005274</td>\n",
       "      <td>-0.190321</td>\n",
       "      <td>-1.175575</td>\n",
       "      <td>0.647376</td>\n",
       "      <td>-0.221929</td>\n",
       "      <td>0.062723</td>\n",
       "      <td>0.061458</td>\n",
       "      <td>123.50</td>\n",
       "      <td>0</td>\n",
       "    </tr>\n",
       "    <tr>\n",
       "      <th>4</th>\n",
       "      <td>2.0</td>\n",
       "      <td>-1.158233</td>\n",
       "      <td>0.877737</td>\n",
       "      <td>1.548718</td>\n",
       "      <td>0.403034</td>\n",
       "      <td>-0.407193</td>\n",
       "      <td>0.095921</td>\n",
       "      <td>0.592941</td>\n",
       "      <td>-0.270533</td>\n",
       "      <td>0.817739</td>\n",
       "      <td>...</td>\n",
       "      <td>-0.009431</td>\n",
       "      <td>0.798278</td>\n",
       "      <td>-0.137458</td>\n",
       "      <td>0.141267</td>\n",
       "      <td>-0.206010</td>\n",
       "      <td>0.502292</td>\n",
       "      <td>0.219422</td>\n",
       "      <td>0.215153</td>\n",
       "      <td>69.99</td>\n",
       "      <td>0</td>\n",
       "    </tr>\n",
       "  </tbody>\n",
       "</table>\n",
       "<p>5 rows × 31 columns</p>\n",
       "</div>"
      ],
      "text/plain": [
       "   Time        V1        V2        V3        V4        V5        V6        V7  \\\n",
       "0   0.0 -1.359807 -0.072781  2.536347  1.378155 -0.338321  0.462388  0.239599   \n",
       "1   0.0  1.191857  0.266151  0.166480  0.448154  0.060018 -0.082361 -0.078803   \n",
       "2   1.0 -1.358354 -1.340163  1.773209  0.379780 -0.503198  1.800499  0.791461   \n",
       "3   1.0 -0.966272 -0.185226  1.792993 -0.863291 -0.010309  1.247203  0.237609   \n",
       "4   2.0 -1.158233  0.877737  1.548718  0.403034 -0.407193  0.095921  0.592941   \n",
       "\n",
       "         V8        V9  ...       V21       V22       V23       V24       V25  \\\n",
       "0  0.098698  0.363787  ... -0.018307  0.277838 -0.110474  0.066928  0.128539   \n",
       "1  0.085102 -0.255425  ... -0.225775 -0.638672  0.101288 -0.339846  0.167170   \n",
       "2  0.247676 -1.514654  ...  0.247998  0.771679  0.909412 -0.689281 -0.327642   \n",
       "3  0.377436 -1.387024  ... -0.108300  0.005274 -0.190321 -1.175575  0.647376   \n",
       "4 -0.270533  0.817739  ... -0.009431  0.798278 -0.137458  0.141267 -0.206010   \n",
       "\n",
       "        V26       V27       V28  Amount  Class  \n",
       "0 -0.189115  0.133558 -0.021053  149.62      0  \n",
       "1  0.125895 -0.008983  0.014724    2.69      0  \n",
       "2 -0.139097 -0.055353 -0.059752  378.66      0  \n",
       "3 -0.221929  0.062723  0.061458  123.50      0  \n",
       "4  0.502292  0.219422  0.215153   69.99      0  \n",
       "\n",
       "[5 rows x 31 columns]"
      ]
     },
     "execution_count": 3,
     "metadata": {},
     "output_type": "execute_result"
    }
   ],
   "source": [
    "data = pd.read_csv('data/creditcard.csv')\n",
    "data.head()"
   ]
  },
  {
   "cell_type": "code",
   "execution_count": 4,
   "metadata": {},
   "outputs": [
    {
     "data": {
      "text/plain": [
       "(284807, 31)"
      ]
     },
     "execution_count": 4,
     "metadata": {},
     "output_type": "execute_result"
    }
   ],
   "source": [
    "data.shape"
   ]
  },
  {
   "cell_type": "code",
   "execution_count": 6,
   "metadata": {},
   "outputs": [
    {
     "data": {
      "text/plain": [
       "Time      0\n",
       "V1        0\n",
       "V2        0\n",
       "V3        0\n",
       "V4        0\n",
       "V5        0\n",
       "V6        0\n",
       "V7        0\n",
       "V8        0\n",
       "V9        0\n",
       "V10       0\n",
       "V11       0\n",
       "V12       0\n",
       "V13       0\n",
       "V14       0\n",
       "V15       0\n",
       "V16       0\n",
       "V17       0\n",
       "V18       0\n",
       "V19       0\n",
       "V20       0\n",
       "V21       0\n",
       "V22       0\n",
       "V23       0\n",
       "V24       0\n",
       "V25       0\n",
       "V26       0\n",
       "V27       0\n",
       "V28       0\n",
       "Amount    0\n",
       "Class     0\n",
       "dtype: int64"
      ]
     },
     "execution_count": 6,
     "metadata": {},
     "output_type": "execute_result"
    }
   ],
   "source": [
    "data.isnull().sum() #checking null value"
   ]
  },
  {
   "cell_type": "code",
   "execution_count": 7,
   "metadata": {},
   "outputs": [
    {
     "data": {
      "text/plain": [
       "0    284315\n",
       "1       492\n",
       "Name: Class, dtype: int64"
      ]
     },
     "execution_count": 7,
     "metadata": {},
     "output_type": "execute_result"
    }
   ],
   "source": [
    "data['Class'].value_counts()"
   ]
  },
  {
   "cell_type": "markdown",
   "metadata": {},
   "source": [
    "## Balance Dataset"
   ]
  },
  {
   "cell_type": "code",
   "execution_count": 8,
   "metadata": {},
   "outputs": [],
   "source": [
    "#going to balance the dataset in order to get better prediction\n",
    "non_fraud = data[data['Class']==0]\n",
    "fraud = data[data['Class']==1]"
   ]
  },
  {
   "cell_type": "code",
   "execution_count": 9,
   "metadata": {},
   "outputs": [
    {
     "data": {
      "text/plain": [
       "((284315, 31), (492, 31))"
      ]
     },
     "execution_count": 9,
     "metadata": {},
     "output_type": "execute_result"
    }
   ],
   "source": [
    "non_fraud.shape, fraud.shape"
   ]
  },
  {
   "cell_type": "code",
   "execution_count": 10,
   "metadata": {},
   "outputs": [
    {
     "data": {
      "text/plain": [
       "(492, 31)"
      ]
     },
     "execution_count": 10,
     "metadata": {},
     "output_type": "execute_result"
    }
   ],
   "source": [
    "#selecting fraud samples from non_fraud samples in random\n",
    "non_fraud = non_fraud.sample(fraud.shape[0])\n",
    "non_fraud.shape"
   ]
  },
  {
   "cell_type": "markdown",
   "metadata": {},
   "source": [
    "Now fraud and non_fraud samples are balanced, Now we want to merge these two datasets together."
   ]
  },
  {
   "cell_type": "code",
   "execution_count": 11,
   "metadata": {},
   "outputs": [
    {
     "data": {
      "text/html": [
       "<div>\n",
       "<style scoped>\n",
       "    .dataframe tbody tr th:only-of-type {\n",
       "        vertical-align: middle;\n",
       "    }\n",
       "\n",
       "    .dataframe tbody tr th {\n",
       "        vertical-align: top;\n",
       "    }\n",
       "\n",
       "    .dataframe thead th {\n",
       "        text-align: right;\n",
       "    }\n",
       "</style>\n",
       "<table border=\"1\" class=\"dataframe\">\n",
       "  <thead>\n",
       "    <tr style=\"text-align: right;\">\n",
       "      <th></th>\n",
       "      <th>Time</th>\n",
       "      <th>V1</th>\n",
       "      <th>V2</th>\n",
       "      <th>V3</th>\n",
       "      <th>V4</th>\n",
       "      <th>V5</th>\n",
       "      <th>V6</th>\n",
       "      <th>V7</th>\n",
       "      <th>V8</th>\n",
       "      <th>V9</th>\n",
       "      <th>...</th>\n",
       "      <th>V21</th>\n",
       "      <th>V22</th>\n",
       "      <th>V23</th>\n",
       "      <th>V24</th>\n",
       "      <th>V25</th>\n",
       "      <th>V26</th>\n",
       "      <th>V27</th>\n",
       "      <th>V28</th>\n",
       "      <th>Amount</th>\n",
       "      <th>Class</th>\n",
       "    </tr>\n",
       "  </thead>\n",
       "  <tbody>\n",
       "    <tr>\n",
       "      <th>0</th>\n",
       "      <td>406.0</td>\n",
       "      <td>-2.312227</td>\n",
       "      <td>1.951992</td>\n",
       "      <td>-1.609851</td>\n",
       "      <td>3.997906</td>\n",
       "      <td>-0.522188</td>\n",
       "      <td>-1.426545</td>\n",
       "      <td>-2.537387</td>\n",
       "      <td>1.391657</td>\n",
       "      <td>-2.770089</td>\n",
       "      <td>...</td>\n",
       "      <td>0.517232</td>\n",
       "      <td>-0.035049</td>\n",
       "      <td>-0.465211</td>\n",
       "      <td>0.320198</td>\n",
       "      <td>0.044519</td>\n",
       "      <td>0.177840</td>\n",
       "      <td>0.261145</td>\n",
       "      <td>-0.143276</td>\n",
       "      <td>0.00</td>\n",
       "      <td>1</td>\n",
       "    </tr>\n",
       "    <tr>\n",
       "      <th>1</th>\n",
       "      <td>472.0</td>\n",
       "      <td>-3.043541</td>\n",
       "      <td>-3.157307</td>\n",
       "      <td>1.088463</td>\n",
       "      <td>2.288644</td>\n",
       "      <td>1.359805</td>\n",
       "      <td>-1.064823</td>\n",
       "      <td>0.325574</td>\n",
       "      <td>-0.067794</td>\n",
       "      <td>-0.270953</td>\n",
       "      <td>...</td>\n",
       "      <td>0.661696</td>\n",
       "      <td>0.435477</td>\n",
       "      <td>1.375966</td>\n",
       "      <td>-0.293803</td>\n",
       "      <td>0.279798</td>\n",
       "      <td>-0.145362</td>\n",
       "      <td>-0.252773</td>\n",
       "      <td>0.035764</td>\n",
       "      <td>529.00</td>\n",
       "      <td>1</td>\n",
       "    </tr>\n",
       "    <tr>\n",
       "      <th>2</th>\n",
       "      <td>4462.0</td>\n",
       "      <td>-2.303350</td>\n",
       "      <td>1.759247</td>\n",
       "      <td>-0.359745</td>\n",
       "      <td>2.330243</td>\n",
       "      <td>-0.821628</td>\n",
       "      <td>-0.075788</td>\n",
       "      <td>0.562320</td>\n",
       "      <td>-0.399147</td>\n",
       "      <td>-0.238253</td>\n",
       "      <td>...</td>\n",
       "      <td>-0.294166</td>\n",
       "      <td>-0.932391</td>\n",
       "      <td>0.172726</td>\n",
       "      <td>-0.087330</td>\n",
       "      <td>-0.156114</td>\n",
       "      <td>-0.542628</td>\n",
       "      <td>0.039566</td>\n",
       "      <td>-0.153029</td>\n",
       "      <td>239.93</td>\n",
       "      <td>1</td>\n",
       "    </tr>\n",
       "    <tr>\n",
       "      <th>3</th>\n",
       "      <td>6986.0</td>\n",
       "      <td>-4.397974</td>\n",
       "      <td>1.358367</td>\n",
       "      <td>-2.592844</td>\n",
       "      <td>2.679787</td>\n",
       "      <td>-1.128131</td>\n",
       "      <td>-1.706536</td>\n",
       "      <td>-3.496197</td>\n",
       "      <td>-0.248778</td>\n",
       "      <td>-0.247768</td>\n",
       "      <td>...</td>\n",
       "      <td>0.573574</td>\n",
       "      <td>0.176968</td>\n",
       "      <td>-0.436207</td>\n",
       "      <td>-0.053502</td>\n",
       "      <td>0.252405</td>\n",
       "      <td>-0.657488</td>\n",
       "      <td>-0.827136</td>\n",
       "      <td>0.849573</td>\n",
       "      <td>59.00</td>\n",
       "      <td>1</td>\n",
       "    </tr>\n",
       "    <tr>\n",
       "      <th>4</th>\n",
       "      <td>7519.0</td>\n",
       "      <td>1.234235</td>\n",
       "      <td>3.019740</td>\n",
       "      <td>-4.304597</td>\n",
       "      <td>4.732795</td>\n",
       "      <td>3.624201</td>\n",
       "      <td>-1.357746</td>\n",
       "      <td>1.713445</td>\n",
       "      <td>-0.496358</td>\n",
       "      <td>-1.282858</td>\n",
       "      <td>...</td>\n",
       "      <td>-0.379068</td>\n",
       "      <td>-0.704181</td>\n",
       "      <td>-0.656805</td>\n",
       "      <td>-1.632653</td>\n",
       "      <td>1.488901</td>\n",
       "      <td>0.566797</td>\n",
       "      <td>-0.010016</td>\n",
       "      <td>0.146793</td>\n",
       "      <td>1.00</td>\n",
       "      <td>1</td>\n",
       "    </tr>\n",
       "    <tr>\n",
       "      <th>...</th>\n",
       "      <td>...</td>\n",
       "      <td>...</td>\n",
       "      <td>...</td>\n",
       "      <td>...</td>\n",
       "      <td>...</td>\n",
       "      <td>...</td>\n",
       "      <td>...</td>\n",
       "      <td>...</td>\n",
       "      <td>...</td>\n",
       "      <td>...</td>\n",
       "      <td>...</td>\n",
       "      <td>...</td>\n",
       "      <td>...</td>\n",
       "      <td>...</td>\n",
       "      <td>...</td>\n",
       "      <td>...</td>\n",
       "      <td>...</td>\n",
       "      <td>...</td>\n",
       "      <td>...</td>\n",
       "      <td>...</td>\n",
       "      <td>...</td>\n",
       "    </tr>\n",
       "    <tr>\n",
       "      <th>979</th>\n",
       "      <td>63748.0</td>\n",
       "      <td>1.244017</td>\n",
       "      <td>0.169173</td>\n",
       "      <td>0.562834</td>\n",
       "      <td>0.826603</td>\n",
       "      <td>-0.461723</td>\n",
       "      <td>-0.690563</td>\n",
       "      <td>0.036161</td>\n",
       "      <td>-0.189180</td>\n",
       "      <td>0.318794</td>\n",
       "      <td>...</td>\n",
       "      <td>-0.224508</td>\n",
       "      <td>-0.403441</td>\n",
       "      <td>0.006843</td>\n",
       "      <td>0.456222</td>\n",
       "      <td>0.488841</td>\n",
       "      <td>0.266132</td>\n",
       "      <td>-0.014957</td>\n",
       "      <td>0.014030</td>\n",
       "      <td>1.00</td>\n",
       "      <td>0</td>\n",
       "    </tr>\n",
       "    <tr>\n",
       "      <th>980</th>\n",
       "      <td>103079.0</td>\n",
       "      <td>2.213395</td>\n",
       "      <td>-0.875744</td>\n",
       "      <td>-2.647330</td>\n",
       "      <td>-1.808588</td>\n",
       "      <td>1.987743</td>\n",
       "      <td>3.139308</td>\n",
       "      <td>-1.048055</td>\n",
       "      <td>0.602834</td>\n",
       "      <td>0.595619</td>\n",
       "      <td>...</td>\n",
       "      <td>0.280869</td>\n",
       "      <td>0.961339</td>\n",
       "      <td>0.036801</td>\n",
       "      <td>0.702292</td>\n",
       "      <td>0.217999</td>\n",
       "      <td>0.050705</td>\n",
       "      <td>-0.046687</td>\n",
       "      <td>-0.078380</td>\n",
       "      <td>15.00</td>\n",
       "      <td>0</td>\n",
       "    </tr>\n",
       "    <tr>\n",
       "      <th>981</th>\n",
       "      <td>129476.0</td>\n",
       "      <td>2.061842</td>\n",
       "      <td>-0.307976</td>\n",
       "      <td>-2.786548</td>\n",
       "      <td>-0.777438</td>\n",
       "      <td>2.499925</td>\n",
       "      <td>3.163437</td>\n",
       "      <td>-0.400266</td>\n",
       "      <td>0.715920</td>\n",
       "      <td>0.448457</td>\n",
       "      <td>...</td>\n",
       "      <td>0.241950</td>\n",
       "      <td>0.745453</td>\n",
       "      <td>0.040329</td>\n",
       "      <td>0.737381</td>\n",
       "      <td>0.303977</td>\n",
       "      <td>-0.087560</td>\n",
       "      <td>-0.000615</td>\n",
       "      <td>-0.065441</td>\n",
       "      <td>1.00</td>\n",
       "      <td>0</td>\n",
       "    </tr>\n",
       "    <tr>\n",
       "      <th>982</th>\n",
       "      <td>53637.0</td>\n",
       "      <td>0.943469</td>\n",
       "      <td>-0.208225</td>\n",
       "      <td>0.356809</td>\n",
       "      <td>0.666019</td>\n",
       "      <td>-0.581452</td>\n",
       "      <td>-0.782429</td>\n",
       "      <td>0.223679</td>\n",
       "      <td>-0.143487</td>\n",
       "      <td>-0.310769</td>\n",
       "      <td>...</td>\n",
       "      <td>-0.056486</td>\n",
       "      <td>-0.500566</td>\n",
       "      <td>-0.022650</td>\n",
       "      <td>0.551783</td>\n",
       "      <td>0.202183</td>\n",
       "      <td>0.117106</td>\n",
       "      <td>-0.063452</td>\n",
       "      <td>0.031932</td>\n",
       "      <td>140.00</td>\n",
       "      <td>0</td>\n",
       "    </tr>\n",
       "    <tr>\n",
       "      <th>983</th>\n",
       "      <td>65470.0</td>\n",
       "      <td>-0.633296</td>\n",
       "      <td>0.719421</td>\n",
       "      <td>1.475764</td>\n",
       "      <td>1.289285</td>\n",
       "      <td>0.046888</td>\n",
       "      <td>0.273624</td>\n",
       "      <td>0.609343</td>\n",
       "      <td>0.252861</td>\n",
       "      <td>-0.524487</td>\n",
       "      <td>...</td>\n",
       "      <td>0.066826</td>\n",
       "      <td>0.379899</td>\n",
       "      <td>0.013626</td>\n",
       "      <td>0.218563</td>\n",
       "      <td>-0.133835</td>\n",
       "      <td>-0.253565</td>\n",
       "      <td>0.400880</td>\n",
       "      <td>0.201418</td>\n",
       "      <td>63.78</td>\n",
       "      <td>0</td>\n",
       "    </tr>\n",
       "  </tbody>\n",
       "</table>\n",
       "<p>984 rows × 31 columns</p>\n",
       "</div>"
      ],
      "text/plain": [
       "         Time        V1        V2        V3        V4        V5        V6  \\\n",
       "0       406.0 -2.312227  1.951992 -1.609851  3.997906 -0.522188 -1.426545   \n",
       "1       472.0 -3.043541 -3.157307  1.088463  2.288644  1.359805 -1.064823   \n",
       "2      4462.0 -2.303350  1.759247 -0.359745  2.330243 -0.821628 -0.075788   \n",
       "3      6986.0 -4.397974  1.358367 -2.592844  2.679787 -1.128131 -1.706536   \n",
       "4      7519.0  1.234235  3.019740 -4.304597  4.732795  3.624201 -1.357746   \n",
       "..        ...       ...       ...       ...       ...       ...       ...   \n",
       "979   63748.0  1.244017  0.169173  0.562834  0.826603 -0.461723 -0.690563   \n",
       "980  103079.0  2.213395 -0.875744 -2.647330 -1.808588  1.987743  3.139308   \n",
       "981  129476.0  2.061842 -0.307976 -2.786548 -0.777438  2.499925  3.163437   \n",
       "982   53637.0  0.943469 -0.208225  0.356809  0.666019 -0.581452 -0.782429   \n",
       "983   65470.0 -0.633296  0.719421  1.475764  1.289285  0.046888  0.273624   \n",
       "\n",
       "           V7        V8        V9  ...       V21       V22       V23  \\\n",
       "0   -2.537387  1.391657 -2.770089  ...  0.517232 -0.035049 -0.465211   \n",
       "1    0.325574 -0.067794 -0.270953  ...  0.661696  0.435477  1.375966   \n",
       "2    0.562320 -0.399147 -0.238253  ... -0.294166 -0.932391  0.172726   \n",
       "3   -3.496197 -0.248778 -0.247768  ...  0.573574  0.176968 -0.436207   \n",
       "4    1.713445 -0.496358 -1.282858  ... -0.379068 -0.704181 -0.656805   \n",
       "..        ...       ...       ...  ...       ...       ...       ...   \n",
       "979  0.036161 -0.189180  0.318794  ... -0.224508 -0.403441  0.006843   \n",
       "980 -1.048055  0.602834  0.595619  ...  0.280869  0.961339  0.036801   \n",
       "981 -0.400266  0.715920  0.448457  ...  0.241950  0.745453  0.040329   \n",
       "982  0.223679 -0.143487 -0.310769  ... -0.056486 -0.500566 -0.022650   \n",
       "983  0.609343  0.252861 -0.524487  ...  0.066826  0.379899  0.013626   \n",
       "\n",
       "          V24       V25       V26       V27       V28  Amount  Class  \n",
       "0    0.320198  0.044519  0.177840  0.261145 -0.143276    0.00      1  \n",
       "1   -0.293803  0.279798 -0.145362 -0.252773  0.035764  529.00      1  \n",
       "2   -0.087330 -0.156114 -0.542628  0.039566 -0.153029  239.93      1  \n",
       "3   -0.053502  0.252405 -0.657488 -0.827136  0.849573   59.00      1  \n",
       "4   -1.632653  1.488901  0.566797 -0.010016  0.146793    1.00      1  \n",
       "..        ...       ...       ...       ...       ...     ...    ...  \n",
       "979  0.456222  0.488841  0.266132 -0.014957  0.014030    1.00      0  \n",
       "980  0.702292  0.217999  0.050705 -0.046687 -0.078380   15.00      0  \n",
       "981  0.737381  0.303977 -0.087560 -0.000615 -0.065441    1.00      0  \n",
       "982  0.551783  0.202183  0.117106 -0.063452  0.031932  140.00      0  \n",
       "983  0.218563 -0.133835 -0.253565  0.400880  0.201418   63.78      0  \n",
       "\n",
       "[984 rows x 31 columns]"
      ]
     },
     "execution_count": 11,
     "metadata": {},
     "output_type": "execute_result"
    }
   ],
   "source": [
    "data = fraud.append(non_fraud, ignore_index=True)\n",
    "data"
   ]
  },
  {
   "cell_type": "code",
   "execution_count": 13,
   "metadata": {},
   "outputs": [
    {
     "data": {
      "text/plain": [
       "1    492\n",
       "0    492\n",
       "Name: Class, dtype: int64"
      ]
     },
     "execution_count": 13,
     "metadata": {},
     "output_type": "execute_result"
    }
   ],
   "source": [
    "data['Class'].value_counts() #balenced dataset"
   ]
  },
  {
   "cell_type": "markdown",
   "metadata": {},
   "source": [
    "## Training the data"
   ]
  },
  {
   "cell_type": "code",
   "execution_count": 14,
   "metadata": {},
   "outputs": [],
   "source": [
    "X = data.drop('Class', axis = 1)\n",
    "y = data['Class']"
   ]
  },
  {
   "cell_type": "code",
   "execution_count": 16,
   "metadata": {},
   "outputs": [
    {
     "data": {
      "text/plain": [
       "((787, 30), (197, 30))"
      ]
     },
     "execution_count": 16,
     "metadata": {},
     "output_type": "execute_result"
    }
   ],
   "source": [
    "X_train, X_test, y_train, y_test = train_test_split(X, y, test_size = 0.2, random_state = 0, stratify = y)\n",
    "X_train.shape, X_test.shape"
   ]
  },
  {
   "cell_type": "code",
   "execution_count": 17,
   "metadata": {},
   "outputs": [],
   "source": [
    "#standardizing the data\n",
    "\n",
    "scaler = StandardScaler()\n",
    "X_train = scaler.fit_transform(X_train)\n",
    "X_test = scaler.transform(X_test)"
   ]
  },
  {
   "cell_type": "code",
   "execution_count": 18,
   "metadata": {},
   "outputs": [],
   "source": [
    "#converting to NumPy arrays\n",
    "y_train = y_train.to_numpy()\n",
    "y_test = y_test.to_numpy()"
   ]
  },
  {
   "cell_type": "code",
   "execution_count": 19,
   "metadata": {},
   "outputs": [
    {
     "data": {
      "text/plain": [
       "(787, 30)"
      ]
     },
     "execution_count": 19,
     "metadata": {},
     "output_type": "execute_result"
    }
   ],
   "source": [
    "X_train.shape"
   ]
  },
  {
   "cell_type": "code",
   "execution_count": 22,
   "metadata": {},
   "outputs": [
    {
     "data": {
      "text/plain": [
       "((787, 30, 1), (197, 30, 1))"
      ]
     },
     "execution_count": 22,
     "metadata": {},
     "output_type": "execute_result"
    }
   ],
   "source": [
    "#reshaping to 3 dimensional\n",
    "X_train = X_train.reshape(X_train.shape[0], X_train.shape[1], 1)\n",
    "X_test = X_test.reshape(X_test.shape[0], X_test.shape[1], 1)\n",
    "X_train.shape, X_test.shape"
   ]
  },
  {
   "cell_type": "markdown",
   "metadata": {},
   "source": [
    "## Building CNN"
   ]
  },
  {
   "cell_type": "code",
   "execution_count": 26,
   "metadata": {},
   "outputs": [],
   "source": [
    "epochs = 50\n",
    "model = Sequential()\n",
    "model.add(Conv1D(32, 2, activation='relu', input_shape = X_train[0].shape))\n",
    "model.add(BatchNormalization())\n",
    "model.add(Dropout(0.2))\n",
    "\n",
    "model.add(Conv1D(64, 2, activation='relu'))\n",
    "model.add(BatchNormalization())\n",
    "model.add(Dropout(0.5))\n",
    "\n",
    "model.add(Flatten())\n",
    "model.add(Dense(64, activation='relu'))\n",
    "model.add(Dropout(0.5))\n",
    "\n",
    "model.add(Dense(1, activation='sigmoid'))"
   ]
  },
  {
   "cell_type": "code",
   "execution_count": 27,
   "metadata": {},
   "outputs": [
    {
     "name": "stdout",
     "output_type": "stream",
     "text": [
      "Model: \"sequential_1\"\n",
      "_________________________________________________________________\n",
      "Layer (type)                 Output Shape              Param #   \n",
      "=================================================================\n",
      "conv1d_2 (Conv1D)            (None, 29, 32)            96        \n",
      "_________________________________________________________________\n",
      "batch_normalization_2 (Batch (None, 29, 32)            128       \n",
      "_________________________________________________________________\n",
      "dropout_3 (Dropout)          (None, 29, 32)            0         \n",
      "_________________________________________________________________\n",
      "conv1d_3 (Conv1D)            (None, 28, 64)            4160      \n",
      "_________________________________________________________________\n",
      "batch_normalization_3 (Batch (None, 28, 64)            256       \n",
      "_________________________________________________________________\n",
      "dropout_4 (Dropout)          (None, 28, 64)            0         \n",
      "_________________________________________________________________\n",
      "flatten_1 (Flatten)          (None, 1792)              0         \n",
      "_________________________________________________________________\n",
      "dense_2 (Dense)              (None, 64)                114752    \n",
      "_________________________________________________________________\n",
      "dropout_5 (Dropout)          (None, 64)                0         \n",
      "_________________________________________________________________\n",
      "dense_3 (Dense)              (None, 1)                 65        \n",
      "=================================================================\n",
      "Total params: 119,457\n",
      "Trainable params: 119,265\n",
      "Non-trainable params: 192\n",
      "_________________________________________________________________\n"
     ]
    }
   ],
   "source": [
    "model.summary()"
   ]
  },
  {
   "cell_type": "code",
   "execution_count": 28,
   "metadata": {},
   "outputs": [],
   "source": [
    "#compiling the model\n",
    "model.compile(optimizer=Adam(lr=0.0001), loss = 'binary_crossentropy', metrics=['accuracy'])"
   ]
  },
  {
   "cell_type": "code",
   "execution_count": 29,
   "metadata": {},
   "outputs": [
    {
     "name": "stdout",
     "output_type": "stream",
     "text": [
      "Train on 787 samples, validate on 197 samples\n",
      "Epoch 1/50\n",
      "787/787 [==============================] - 5s 7ms/sample - loss: 0.7066 - accuracy: 0.7154 - val_loss: 0.6124 - val_accuracy: 0.8274\n",
      "Epoch 2/50\n",
      "787/787 [==============================] - 0s 565us/sample - loss: 0.5095 - accuracy: 0.7980 - val_loss: 0.5664 - val_accuracy: 0.8629\n",
      "Epoch 3/50\n",
      "787/787 [==============================] - 0s 442us/sample - loss: 0.3632 - accuracy: 0.8691 - val_loss: 0.5360 - val_accuracy: 0.8934\n",
      "Epoch 4/50\n",
      "787/787 [==============================] - 0s 384us/sample - loss: 0.3407 - accuracy: 0.8717 - val_loss: 0.5060 - val_accuracy: 0.9036\n",
      "Epoch 5/50\n",
      "787/787 [==============================] - 0s 411us/sample - loss: 0.3420 - accuracy: 0.8831 - val_loss: 0.4757 - val_accuracy: 0.9086\n",
      "Epoch 6/50\n",
      "787/787 [==============================] - 0s 416us/sample - loss: 0.3413 - accuracy: 0.8793 - val_loss: 0.4398 - val_accuracy: 0.9036\n",
      "Epoch 7/50\n",
      "787/787 [==============================] - 0s 408us/sample - loss: 0.2796 - accuracy: 0.9047 - val_loss: 0.4107 - val_accuracy: 0.9086\n",
      "Epoch 8/50\n",
      "787/787 [==============================] - 0s 409us/sample - loss: 0.2491 - accuracy: 0.9085 - val_loss: 0.4021 - val_accuracy: 0.8782\n",
      "Epoch 9/50\n",
      "787/787 [==============================] - 0s 393us/sample - loss: 0.2324 - accuracy: 0.9161 - val_loss: 0.3935 - val_accuracy: 0.8579\n",
      "Epoch 10/50\n",
      "787/787 [==============================] - 0s 379us/sample - loss: 0.2198 - accuracy: 0.9161 - val_loss: 0.3606 - val_accuracy: 0.8782\n",
      "Epoch 11/50\n",
      "787/787 [==============================] - 0s 403us/sample - loss: 0.2631 - accuracy: 0.9060 - val_loss: 0.3227 - val_accuracy: 0.9239\n",
      "Epoch 12/50\n",
      "787/787 [==============================] - 0s 377us/sample - loss: 0.2504 - accuracy: 0.9111 - val_loss: 0.2976 - val_accuracy: 0.9239\n",
      "Epoch 13/50\n",
      "787/787 [==============================] - 0s 421us/sample - loss: 0.2287 - accuracy: 0.9136 - val_loss: 0.2818 - val_accuracy: 0.9239\n",
      "Epoch 14/50\n",
      "787/787 [==============================] - 0s 412us/sample - loss: 0.2133 - accuracy: 0.9238 - val_loss: 0.2611 - val_accuracy: 0.9239\n",
      "Epoch 15/50\n",
      "787/787 [==============================] - 0s 404us/sample - loss: 0.2213 - accuracy: 0.9161 - val_loss: 0.2401 - val_accuracy: 0.9188\n",
      "Epoch 16/50\n",
      "787/787 [==============================] - 0s 410us/sample - loss: 0.2188 - accuracy: 0.9174 - val_loss: 0.2339 - val_accuracy: 0.9239\n",
      "Epoch 17/50\n",
      "787/787 [==============================] - 0s 392us/sample - loss: 0.2133 - accuracy: 0.9327 - val_loss: 0.2157 - val_accuracy: 0.9239\n",
      "Epoch 18/50\n",
      "787/787 [==============================] - 0s 401us/sample - loss: 0.2137 - accuracy: 0.9288 - val_loss: 0.2089 - val_accuracy: 0.9239\n",
      "Epoch 19/50\n",
      "787/787 [==============================] - 0s 400us/sample - loss: 0.2113 - accuracy: 0.9276 - val_loss: 0.2003 - val_accuracy: 0.9188\n",
      "Epoch 20/50\n",
      "787/787 [==============================] - 0s 413us/sample - loss: 0.2056 - accuracy: 0.9250 - val_loss: 0.1950 - val_accuracy: 0.9086\n",
      "Epoch 21/50\n",
      "787/787 [==============================] - 0s 405us/sample - loss: 0.2266 - accuracy: 0.9187 - val_loss: 0.1953 - val_accuracy: 0.9137\n",
      "Epoch 22/50\n",
      "787/787 [==============================] - 0s 411us/sample - loss: 0.1867 - accuracy: 0.9314 - val_loss: 0.1936 - val_accuracy: 0.9086\n",
      "Epoch 23/50\n",
      "787/787 [==============================] - 0s 359us/sample - loss: 0.2136 - accuracy: 0.9301 - val_loss: 0.1942 - val_accuracy: 0.9086\n",
      "Epoch 24/50\n",
      "787/787 [==============================] - 0s 423us/sample - loss: 0.1887 - accuracy: 0.9276 - val_loss: 0.1940 - val_accuracy: 0.9188\n",
      "Epoch 25/50\n",
      "787/787 [==============================] - 0s 381us/sample - loss: 0.1761 - accuracy: 0.9390 - val_loss: 0.1925 - val_accuracy: 0.9188\n",
      "Epoch 26/50\n",
      "787/787 [==============================] - 0s 379us/sample - loss: 0.1700 - accuracy: 0.9327 - val_loss: 0.1895 - val_accuracy: 0.9137\n",
      "Epoch 27/50\n",
      "787/787 [==============================] - 0s 391us/sample - loss: 0.1715 - accuracy: 0.9403 - val_loss: 0.1853 - val_accuracy: 0.9137\n",
      "Epoch 28/50\n",
      "787/787 [==============================] - 0s 384us/sample - loss: 0.1847 - accuracy: 0.9339 - val_loss: 0.1840 - val_accuracy: 0.9137\n",
      "Epoch 29/50\n",
      "787/787 [==============================] - 0s 379us/sample - loss: 0.1785 - accuracy: 0.9339 - val_loss: 0.1821 - val_accuracy: 0.9137\n",
      "Epoch 30/50\n",
      "787/787 [==============================] - 0s 461us/sample - loss: 0.1841 - accuracy: 0.9365 - val_loss: 0.1816 - val_accuracy: 0.9137\n",
      "Epoch 31/50\n",
      "787/787 [==============================] - 0s 381us/sample - loss: 0.1695 - accuracy: 0.9403 - val_loss: 0.1789 - val_accuracy: 0.9239\n",
      "Epoch 32/50\n",
      "787/787 [==============================] - 0s 380us/sample - loss: 0.1754 - accuracy: 0.9377 - val_loss: 0.1768 - val_accuracy: 0.9188\n",
      "Epoch 33/50\n",
      "787/787 [==============================] - 1s 837us/sample - loss: 0.1469 - accuracy: 0.9454 - val_loss: 0.1753 - val_accuracy: 0.9188\n",
      "Epoch 34/50\n",
      "787/787 [==============================] - 0s 398us/sample - loss: 0.1681 - accuracy: 0.9377 - val_loss: 0.1742 - val_accuracy: 0.9188\n",
      "Epoch 35/50\n",
      "787/787 [==============================] - 0s 406us/sample - loss: 0.1651 - accuracy: 0.9365 - val_loss: 0.1742 - val_accuracy: 0.9188\n",
      "Epoch 36/50\n",
      "787/787 [==============================] - 0s 414us/sample - loss: 0.1629 - accuracy: 0.9403 - val_loss: 0.1749 - val_accuracy: 0.9188\n",
      "Epoch 37/50\n",
      "787/787 [==============================] - 0s 383us/sample - loss: 0.1519 - accuracy: 0.9428 - val_loss: 0.1749 - val_accuracy: 0.9188\n",
      "Epoch 38/50\n",
      "787/787 [==============================] - 0s 389us/sample - loss: 0.1702 - accuracy: 0.9352 - val_loss: 0.1742 - val_accuracy: 0.9188\n",
      "Epoch 39/50\n",
      "787/787 [==============================] - 0s 380us/sample - loss: 0.1542 - accuracy: 0.9428 - val_loss: 0.1744 - val_accuracy: 0.9188\n",
      "Epoch 40/50\n",
      "787/787 [==============================] - 0s 416us/sample - loss: 0.1675 - accuracy: 0.9250 - val_loss: 0.1752 - val_accuracy: 0.9239\n",
      "Epoch 41/50\n",
      "787/787 [==============================] - 0s 387us/sample - loss: 0.1620 - accuracy: 0.9441 - val_loss: 0.1748 - val_accuracy: 0.9188\n",
      "Epoch 42/50\n",
      "787/787 [==============================] - 0s 378us/sample - loss: 0.1422 - accuracy: 0.9466 - val_loss: 0.1751 - val_accuracy: 0.9188\n",
      "Epoch 43/50\n",
      "787/787 [==============================] - 0s 382us/sample - loss: 0.1239 - accuracy: 0.9517 - val_loss: 0.1754 - val_accuracy: 0.9239\n",
      "Epoch 44/50\n",
      "787/787 [==============================] - 0s 373us/sample - loss: 0.1619 - accuracy: 0.9377 - val_loss: 0.1758 - val_accuracy: 0.9239\n",
      "Epoch 45/50\n",
      "787/787 [==============================] - 0s 387us/sample - loss: 0.1564 - accuracy: 0.9390 - val_loss: 0.1747 - val_accuracy: 0.9188\n",
      "Epoch 46/50\n",
      "787/787 [==============================] - 0s 376us/sample - loss: 0.1556 - accuracy: 0.9530 - val_loss: 0.1736 - val_accuracy: 0.9137\n",
      "Epoch 47/50\n",
      "787/787 [==============================] - 0s 395us/sample - loss: 0.1525 - accuracy: 0.9454 - val_loss: 0.1718 - val_accuracy: 0.9239\n",
      "Epoch 48/50\n",
      "787/787 [==============================] - 0s 366us/sample - loss: 0.1443 - accuracy: 0.9466 - val_loss: 0.1709 - val_accuracy: 0.9239\n",
      "Epoch 49/50\n",
      "787/787 [==============================] - 0s 371us/sample - loss: 0.1568 - accuracy: 0.9466 - val_loss: 0.1704 - val_accuracy: 0.9137\n",
      "Epoch 50/50\n",
      "787/787 [==============================] - 0s 377us/sample - loss: 0.1312 - accuracy: 0.9517 - val_loss: 0.1720 - val_accuracy: 0.9137\n"
     ]
    }
   ],
   "source": [
    "history = model.fit(X_train, y_train, epochs=epochs, validation_data=(X_test, y_test), verbose=1)"
   ]
  },
  {
   "cell_type": "markdown",
   "metadata": {},
   "source": [
    "Here validation Accurcy is lower than the training accuracy, that means model is overfitting"
   ]
  },
  {
   "cell_type": "code",
   "execution_count": 32,
   "metadata": {},
   "outputs": [],
   "source": [
    "#plotting the learning curve\n",
    "def plot_learningCurve(history, epoch):\n",
    "  # Plot training & validation accuracy values\n",
    "  epoch_range = range(1, epoch+1)\n",
    "  plt.plot(epoch_range, history.history['accuracy'])\n",
    "  plt.plot(epoch_range, history.history['val_accuracy'])\n",
    "  plt.title('Model accuracy')\n",
    "  plt.ylabel('Accuracy')\n",
    "  plt.xlabel('Epoch')\n",
    "  plt.legend(['Train', 'Val'], loc='upper left')\n",
    "  plt.show()\n",
    "\n",
    "  # Plot training & validation loss values\n",
    "  plt.plot(epoch_range, history.history['loss'])\n",
    "  plt.plot(epoch_range, history.history['val_loss'])\n",
    "  plt.title('Model loss')\n",
    "  plt.ylabel('Loss')\n",
    "  plt.xlabel('Epoch')\n",
    "  plt.legend(['Train', 'Val'], loc='upper left')\n",
    "  plt.show()\n"
   ]
  },
  {
   "cell_type": "code",
   "execution_count": 33,
   "metadata": {},
   "outputs": [
    {
     "data": {
      "image/png": "[encoded data removed]",
      "text/plain": [
       "<Figure size 432x288 with 1 Axes>"
      ]
     },
     "metadata": {
      "needs_background": "light"
     },
     "output_type": "display_data"
    },
    {
     "data": {
      "image/png": "[encoded data removed]",
      "text/plain": [
       "<Figure size 432x288 with 1 Axes>"
      ]
     },
     "metadata": {
      "needs_background": "light"
     },
     "output_type": "display_data"
    }
   ],
   "source": [
    "plot_learningCurve(history, epochs)"
   ]
  },
  {
   "cell_type": "markdown",
   "metadata": {},
   "source": [
    "## Adding MaxPool"
   ]
  },
  {
   "cell_type": "code",
   "execution_count": 34,
   "metadata": {},
   "outputs": [
    {
     "name": "stdout",
     "output_type": "stream",
     "text": [
      "Train on 787 samples, validate on 197 samples\n",
      "Epoch 1/50\n",
      "787/787 [==============================] - 1s 2ms/sample - loss: 1.2886 - accuracy: 0.5006 - val_loss: 0.6796 - val_accuracy: 0.5178\n",
      "Epoch 2/50\n",
      "787/787 [==============================] - 0s 234us/sample - loss: 1.0629 - accuracy: 0.5832 - val_loss: 0.6512 - val_accuracy: 0.7107\n",
      "Epoch 3/50\n",
      "787/787 [==============================] - 0s 237us/sample - loss: 0.7980 - accuracy: 0.6633 - val_loss: 0.6258 - val_accuracy: 0.7310\n",
      "Epoch 4/50\n",
      "787/787 [==============================] - 0s 228us/sample - loss: 0.6639 - accuracy: 0.7179 - val_loss: 0.5979 - val_accuracy: 0.7259\n",
      "Epoch 5/50\n",
      "787/787 [==============================] - 0s 254us/sample - loss: 0.5778 - accuracy: 0.7586 - val_loss: 0.5665 - val_accuracy: 0.7360\n",
      "Epoch 6/50\n",
      "787/787 [==============================] - 0s 228us/sample - loss: 0.6257 - accuracy: 0.7560 - val_loss: 0.5331 - val_accuracy: 0.7665\n",
      "Epoch 7/50\n",
      "787/787 [==============================] - 0s 212us/sample - loss: 0.5491 - accuracy: 0.7954 - val_loss: 0.4987 - val_accuracy: 0.7970\n",
      "Epoch 8/50\n",
      "787/787 [==============================] - 0s 233us/sample - loss: 0.4845 - accuracy: 0.8132 - val_loss: 0.4647 - val_accuracy: 0.8376\n",
      "Epoch 9/50\n",
      "787/787 [==============================] - 0s 233us/sample - loss: 0.4531 - accuracy: 0.8247 - val_loss: 0.4338 - val_accuracy: 0.8325\n",
      "Epoch 10/50\n",
      "787/787 [==============================] - 0s 233us/sample - loss: 0.3987 - accuracy: 0.8463 - val_loss: 0.4051 - val_accuracy: 0.8477\n",
      "Epoch 11/50\n",
      "787/787 [==============================] - 0s 242us/sample - loss: 0.4177 - accuracy: 0.8335 - val_loss: 0.3809 - val_accuracy: 0.8528\n",
      "Epoch 12/50\n",
      "787/787 [==============================] - 0s 226us/sample - loss: 0.4285 - accuracy: 0.8272 - val_loss: 0.3571 - val_accuracy: 0.8579\n",
      "Epoch 13/50\n",
      "787/787 [==============================] - 0s 228us/sample - loss: 0.4241 - accuracy: 0.8539 - val_loss: 0.3390 - val_accuracy: 0.8579\n",
      "Epoch 14/50\n",
      "787/787 [==============================] - 0s 233us/sample - loss: 0.3966 - accuracy: 0.8539 - val_loss: 0.3234 - val_accuracy: 0.8579\n",
      "Epoch 15/50\n",
      "787/787 [==============================] - 0s 239us/sample - loss: 0.4393 - accuracy: 0.8475 - val_loss: 0.3161 - val_accuracy: 0.8629\n",
      "Epoch 16/50\n",
      "787/787 [==============================] - 0s 247us/sample - loss: 0.3823 - accuracy: 0.8539 - val_loss: 0.3069 - val_accuracy: 0.8629\n",
      "Epoch 17/50\n",
      "787/787 [==============================] - 0s 256us/sample - loss: 0.3893 - accuracy: 0.8628 - val_loss: 0.2979 - val_accuracy: 0.8782\n",
      "Epoch 18/50\n",
      "787/787 [==============================] - 0s 293us/sample - loss: 0.3786 - accuracy: 0.8615 - val_loss: 0.2933 - val_accuracy: 0.8782\n",
      "Epoch 19/50\n",
      "787/787 [==============================] - 0s 291us/sample - loss: 0.3589 - accuracy: 0.8793 - val_loss: 0.2887 - val_accuracy: 0.8782\n",
      "Epoch 20/50\n",
      "787/787 [==============================] - 0s 285us/sample - loss: 0.3459 - accuracy: 0.8767 - val_loss: 0.2854 - val_accuracy: 0.8934\n",
      "Epoch 21/50\n",
      "787/787 [==============================] - 0s 244us/sample - loss: 0.3475 - accuracy: 0.8717 - val_loss: 0.2834 - val_accuracy: 0.8883\n",
      "Epoch 22/50\n",
      "787/787 [==============================] - 0s 283us/sample - loss: 0.3671 - accuracy: 0.8704 - val_loss: 0.2815 - val_accuracy: 0.8883\n",
      "Epoch 23/50\n",
      "787/787 [==============================] - 0s 299us/sample - loss: 0.2680 - accuracy: 0.9022 - val_loss: 0.2791 - val_accuracy: 0.8883\n",
      "Epoch 24/50\n",
      "787/787 [==============================] - 0s 279us/sample - loss: 0.3078 - accuracy: 0.8907 - val_loss: 0.2777 - val_accuracy: 0.8883\n",
      "Epoch 25/50\n",
      "787/787 [==============================] - 0s 219us/sample - loss: 0.3402 - accuracy: 0.8767 - val_loss: 0.2761 - val_accuracy: 0.8883\n",
      "Epoch 26/50\n",
      "787/787 [==============================] - 0s 247us/sample - loss: 0.3186 - accuracy: 0.8971 - val_loss: 0.2742 - val_accuracy: 0.8883\n",
      "Epoch 27/50\n",
      "787/787 [==============================] - 0s 217us/sample - loss: 0.3042 - accuracy: 0.8856 - val_loss: 0.2713 - val_accuracy: 0.9036\n",
      "Epoch 28/50\n",
      "787/787 [==============================] - 0s 233us/sample - loss: 0.3376 - accuracy: 0.8806 - val_loss: 0.2685 - val_accuracy: 0.9036\n",
      "Epoch 29/50\n",
      "787/787 [==============================] - 0s 293us/sample - loss: 0.2874 - accuracy: 0.8920 - val_loss: 0.2686 - val_accuracy: 0.9036\n",
      "Epoch 30/50\n",
      "787/787 [==============================] - 0s 238us/sample - loss: 0.3053 - accuracy: 0.8895 - val_loss: 0.2699 - val_accuracy: 0.9036\n",
      "Epoch 31/50\n",
      "787/787 [==============================] - 0s 232us/sample - loss: 0.3008 - accuracy: 0.9009 - val_loss: 0.2697 - val_accuracy: 0.8985\n",
      "Epoch 32/50\n",
      "787/787 [==============================] - 0s 223us/sample - loss: 0.2826 - accuracy: 0.8983 - val_loss: 0.2684 - val_accuracy: 0.8985\n",
      "Epoch 33/50\n",
      "787/787 [==============================] - 0s 278us/sample - loss: 0.2592 - accuracy: 0.9072 - val_loss: 0.2683 - val_accuracy: 0.8985\n",
      "Epoch 34/50\n",
      "787/787 [==============================] - 0s 252us/sample - loss: 0.2816 - accuracy: 0.8971 - val_loss: 0.2697 - val_accuracy: 0.8934\n",
      "Epoch 35/50\n",
      "787/787 [==============================] - 0s 261us/sample - loss: 0.2957 - accuracy: 0.8933 - val_loss: 0.2681 - val_accuracy: 0.8985\n",
      "Epoch 36/50\n",
      "787/787 [==============================] - 0s 259us/sample - loss: 0.2817 - accuracy: 0.8920 - val_loss: 0.2664 - val_accuracy: 0.8934\n",
      "Epoch 37/50\n",
      "787/787 [==============================] - 0s 264us/sample - loss: 0.2834 - accuracy: 0.8996 - val_loss: 0.2648 - val_accuracy: 0.8985\n",
      "Epoch 38/50\n",
      "787/787 [==============================] - 0s 226us/sample - loss: 0.2773 - accuracy: 0.9060 - val_loss: 0.2632 - val_accuracy: 0.8985\n",
      "Epoch 39/50\n",
      "787/787 [==============================] - 0s 234us/sample - loss: 0.3044 - accuracy: 0.9009 - val_loss: 0.2610 - val_accuracy: 0.8985\n",
      "Epoch 40/50\n",
      "787/787 [==============================] - 0s 239us/sample - loss: 0.2573 - accuracy: 0.9072 - val_loss: 0.2590 - val_accuracy: 0.8985\n",
      "Epoch 41/50\n",
      "787/787 [==============================] - 0s 272us/sample - loss: 0.2673 - accuracy: 0.9047 - val_loss: 0.2574 - val_accuracy: 0.8985\n",
      "Epoch 42/50\n",
      "787/787 [==============================] - 0s 236us/sample - loss: 0.2503 - accuracy: 0.9098 - val_loss: 0.2563 - val_accuracy: 0.8985\n",
      "Epoch 43/50\n",
      "787/787 [==============================] - 0s 256us/sample - loss: 0.2496 - accuracy: 0.9098 - val_loss: 0.2541 - val_accuracy: 0.9036\n",
      "Epoch 44/50\n",
      "787/787 [==============================] - 0s 281us/sample - loss: 0.2625 - accuracy: 0.9022 - val_loss: 0.2525 - val_accuracy: 0.9036\n",
      "Epoch 45/50\n",
      "787/787 [==============================] - 0s 241us/sample - loss: 0.2675 - accuracy: 0.9047 - val_loss: 0.2521 - val_accuracy: 0.9036\n",
      "Epoch 46/50\n",
      "787/787 [==============================] - 0s 267us/sample - loss: 0.2401 - accuracy: 0.9174 - val_loss: 0.2509 - val_accuracy: 0.9036\n",
      "Epoch 47/50\n",
      "787/787 [==============================] - 0s 246us/sample - loss: 0.2757 - accuracy: 0.9034 - val_loss: 0.2483 - val_accuracy: 0.9036\n",
      "Epoch 48/50\n",
      "787/787 [==============================] - 0s 258us/sample - loss: 0.2274 - accuracy: 0.9136 - val_loss: 0.2468 - val_accuracy: 0.9086\n",
      "Epoch 49/50\n",
      "787/787 [==============================] - 0s 259us/sample - loss: 0.2594 - accuracy: 0.9123 - val_loss: 0.2452 - val_accuracy: 0.9086\n",
      "Epoch 50/50\n",
      "787/787 [==============================] - 0s 257us/sample - loss: 0.2375 - accuracy: 0.9174 - val_loss: 0.2455 - val_accuracy: 0.9036\n"
     ]
    },
    {
     "data": {
      "image/png": "[encoded data removed]",
      "text/plain": [
       "<Figure size 432x288 with 1 Axes>"
      ]
     },
     "metadata": {
      "needs_background": "light"
     },
     "output_type": "display_data"
    },
    {
     "data": {
      "image/png": "[encoded data removed]",
      "text/plain": [
       "<Figure size 432x288 with 1 Axes>"
      ]
     },
     "metadata": {
      "needs_background": "light"
     },
     "output_type": "display_data"
    }
   ],
   "source": [
    "epochs = 50\n",
    "model = Sequential()\n",
    "model.add(Conv1D(32, 2, activation='relu', input_shape = X_train[0].shape))\n",
    "model.add(BatchNormalization())\n",
    "model.add(MaxPool1D(2))\n",
    "model.add(Dropout(0.2))\n",
    "\n",
    "model.add(Conv1D(64, 2, activation='relu'))\n",
    "model.add(BatchNormalization())\n",
    "model.add(MaxPool1D(2))\n",
    "model.add(Dropout(0.5))\n",
    "\n",
    "model.add(Flatten())\n",
    "model.add(Dense(64, activation='relu'))\n",
    "model.add(Dropout(0.5))\n",
    "\n",
    "model.add(Dense(1, activation='sigmoid'))\n",
    "\n",
    "model.compile(optimizer=Adam(lr=0.0001), loss = 'binary_crossentropy', metrics=['accuracy'])\n",
    "history = model.fit(X_train, y_train, epochs=epochs, validation_data=(X_test, y_test), verbose=1)\n",
    "plot_learningCurve(history, epochs)"
   ]
  },
  {
   "cell_type": "markdown",
   "metadata": {},
   "source": [
    "### References:"
   ]
  },
  {
   "cell_type": "markdown",
   "metadata": {},
   "source": [
    "- [YouTube]( http://cmgreen.io/2016/01/04/tensorflow_deep_autoencoder.html)\n",
    "- [GitHub]( https://github.com/laxmimerit/Credit-Card-Fraud-Detection-using-CNN-in-TensorFlow-2.0/blob/master/Credit%20Card%20Transaction%20Fraud%20Detection%20using%20CNN.ipynb)\n",
    "\n"
   ]
  },
  {
   "cell_type": "markdown",
   "metadata": {},
   "source": []
  }
 ],
 "metadata": {
  "kernelspec": {
   "display_name": "Python 3",
   "language": "python",
   "name": "python3"
  },
  "language_info": {
   "codemirror_mode": {
    "name": "ipython",
    "version": 3
   },
   "file_extension": ".py",
   "mimetype": "text/x-python",
   "name": "python",
   "nbconvert_exporter": "python",
   "pygments_lexer": "ipython3",
   "version": "3.7.1"
  }
 },
 "nbformat": 4,
 "nbformat_minor": 2
}
